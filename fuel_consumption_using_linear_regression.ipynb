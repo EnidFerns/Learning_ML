{
  "nbformat": 4,
  "nbformat_minor": 0,
  "metadata": {
    "colab": {
      "name": "fuel consumption using linear regression.ipynb",
      "provenance": [],
      "collapsed_sections": [],
      "mount_file_id": "1-M-xLG43IAskNa__gjzR8diSwEZ1VM0C",
      "authorship_tag": "ABX9TyMBJGreKR8OyrXux9DK4nnF",
      "include_colab_link": true
    },
    "kernelspec": {
      "name": "python3",
      "display_name": "Python 3"
    },
    "language_info": {
      "name": "python"
    }
  },
  "cells": [
    {
      "cell_type": "markdown",
      "metadata": {
        "id": "view-in-github",
        "colab_type": "text"
      },
      "source": [
        "<a href=\"https://colab.research.google.com/github/EnidFerns/ml/blob/main/fuel_consumption_using_linear_regression.ipynb\" target=\"_parent\"><img src=\"https://colab.research.google.com/assets/colab-badge.svg\" alt=\"Open In Colab\"/></a>"
      ]
    },
    {
      "cell_type": "markdown",
      "metadata": {
        "id": "6k-Lfv11azll"
      },
      "source": [
        "i/p engine size\n",
        "\n",
        "model gives expected CO2 emissions"
      ]
    },
    {
      "cell_type": "code",
      "metadata": {
        "id": "B255fEYbajwI"
      },
      "source": [
        "import pandas as pd\n",
        "import matplotlib.pyplot as plt\n",
        "import numpy as np"
      ],
      "execution_count": 1,
      "outputs": []
    },
    {
      "cell_type": "code",
      "metadata": {
        "id": "nvbOy8R0cK9h"
      },
      "source": [
        "df = pd.read_csv('/content/drive/MyDrive/Verzeo ML Feb Batch/FuelConsumptionCo2.csv')"
      ],
      "execution_count": 4,
      "outputs": []
    },
    {
      "cell_type": "code",
      "metadata": {
        "colab": {
          "base_uri": "https://localhost:8080/",
          "height": 575
        },
        "id": "ob2EvKSNc1vr",
        "outputId": "093691cb-8267-4159-bc48-2487b05f4cac"
      },
      "source": [
        "df"
      ],
      "execution_count": 5,
      "outputs": [
        {
          "output_type": "execute_result",
          "data": {
            "text/html": [
              "<div>\n",
              "<style scoped>\n",
              "    .dataframe tbody tr th:only-of-type {\n",
              "        vertical-align: middle;\n",
              "    }\n",
              "\n",
              "    .dataframe tbody tr th {\n",
              "        vertical-align: top;\n",
              "    }\n",
              "\n",
              "    .dataframe thead th {\n",
              "        text-align: right;\n",
              "    }\n",
              "</style>\n",
              "<table border=\"1\" class=\"dataframe\">\n",
              "  <thead>\n",
              "    <tr style=\"text-align: right;\">\n",
              "      <th></th>\n",
              "      <th>MODELYEAR</th>\n",
              "      <th>MAKE</th>\n",
              "      <th>MODEL</th>\n",
              "      <th>VEHICLECLASS</th>\n",
              "      <th>ENGINESIZE</th>\n",
              "      <th>CYLINDERS</th>\n",
              "      <th>TRANSMISSION</th>\n",
              "      <th>FUELTYPE</th>\n",
              "      <th>FUELCONSUMPTION_CITY</th>\n",
              "      <th>FUELCONSUMPTION_HWY</th>\n",
              "      <th>FUELCONSUMPTION_COMB</th>\n",
              "      <th>FUELCONSUMPTION_COMB_MPG</th>\n",
              "      <th>CO2EMISSIONS</th>\n",
              "    </tr>\n",
              "  </thead>\n",
              "  <tbody>\n",
              "    <tr>\n",
              "      <th>0</th>\n",
              "      <td>2014</td>\n",
              "      <td>ACURA</td>\n",
              "      <td>ILX</td>\n",
              "      <td>COMPACT</td>\n",
              "      <td>2.0</td>\n",
              "      <td>4</td>\n",
              "      <td>AS5</td>\n",
              "      <td>Z</td>\n",
              "      <td>9.9</td>\n",
              "      <td>6.7</td>\n",
              "      <td>8.5</td>\n",
              "      <td>33</td>\n",
              "      <td>196</td>\n",
              "    </tr>\n",
              "    <tr>\n",
              "      <th>1</th>\n",
              "      <td>2014</td>\n",
              "      <td>ACURA</td>\n",
              "      <td>ILX</td>\n",
              "      <td>COMPACT</td>\n",
              "      <td>2.4</td>\n",
              "      <td>4</td>\n",
              "      <td>M6</td>\n",
              "      <td>Z</td>\n",
              "      <td>11.2</td>\n",
              "      <td>7.7</td>\n",
              "      <td>9.6</td>\n",
              "      <td>29</td>\n",
              "      <td>221</td>\n",
              "    </tr>\n",
              "    <tr>\n",
              "      <th>2</th>\n",
              "      <td>2014</td>\n",
              "      <td>ACURA</td>\n",
              "      <td>ILX HYBRID</td>\n",
              "      <td>COMPACT</td>\n",
              "      <td>1.5</td>\n",
              "      <td>4</td>\n",
              "      <td>AV7</td>\n",
              "      <td>Z</td>\n",
              "      <td>6.0</td>\n",
              "      <td>5.8</td>\n",
              "      <td>5.9</td>\n",
              "      <td>48</td>\n",
              "      <td>136</td>\n",
              "    </tr>\n",
              "    <tr>\n",
              "      <th>3</th>\n",
              "      <td>2014</td>\n",
              "      <td>ACURA</td>\n",
              "      <td>MDX 4WD</td>\n",
              "      <td>SUV - SMALL</td>\n",
              "      <td>3.5</td>\n",
              "      <td>6</td>\n",
              "      <td>AS6</td>\n",
              "      <td>Z</td>\n",
              "      <td>12.7</td>\n",
              "      <td>9.1</td>\n",
              "      <td>11.1</td>\n",
              "      <td>25</td>\n",
              "      <td>255</td>\n",
              "    </tr>\n",
              "    <tr>\n",
              "      <th>4</th>\n",
              "      <td>2014</td>\n",
              "      <td>ACURA</td>\n",
              "      <td>RDX AWD</td>\n",
              "      <td>SUV - SMALL</td>\n",
              "      <td>3.5</td>\n",
              "      <td>6</td>\n",
              "      <td>AS6</td>\n",
              "      <td>Z</td>\n",
              "      <td>12.1</td>\n",
              "      <td>8.7</td>\n",
              "      <td>10.6</td>\n",
              "      <td>27</td>\n",
              "      <td>244</td>\n",
              "    </tr>\n",
              "    <tr>\n",
              "      <th>...</th>\n",
              "      <td>...</td>\n",
              "      <td>...</td>\n",
              "      <td>...</td>\n",
              "      <td>...</td>\n",
              "      <td>...</td>\n",
              "      <td>...</td>\n",
              "      <td>...</td>\n",
              "      <td>...</td>\n",
              "      <td>...</td>\n",
              "      <td>...</td>\n",
              "      <td>...</td>\n",
              "      <td>...</td>\n",
              "      <td>...</td>\n",
              "    </tr>\n",
              "    <tr>\n",
              "      <th>1062</th>\n",
              "      <td>2014</td>\n",
              "      <td>VOLVO</td>\n",
              "      <td>XC60 AWD</td>\n",
              "      <td>SUV - SMALL</td>\n",
              "      <td>3.0</td>\n",
              "      <td>6</td>\n",
              "      <td>AS6</td>\n",
              "      <td>X</td>\n",
              "      <td>13.4</td>\n",
              "      <td>9.8</td>\n",
              "      <td>11.8</td>\n",
              "      <td>24</td>\n",
              "      <td>271</td>\n",
              "    </tr>\n",
              "    <tr>\n",
              "      <th>1063</th>\n",
              "      <td>2014</td>\n",
              "      <td>VOLVO</td>\n",
              "      <td>XC60 AWD</td>\n",
              "      <td>SUV - SMALL</td>\n",
              "      <td>3.2</td>\n",
              "      <td>6</td>\n",
              "      <td>AS6</td>\n",
              "      <td>X</td>\n",
              "      <td>13.2</td>\n",
              "      <td>9.5</td>\n",
              "      <td>11.5</td>\n",
              "      <td>25</td>\n",
              "      <td>264</td>\n",
              "    </tr>\n",
              "    <tr>\n",
              "      <th>1064</th>\n",
              "      <td>2014</td>\n",
              "      <td>VOLVO</td>\n",
              "      <td>XC70 AWD</td>\n",
              "      <td>SUV - SMALL</td>\n",
              "      <td>3.0</td>\n",
              "      <td>6</td>\n",
              "      <td>AS6</td>\n",
              "      <td>X</td>\n",
              "      <td>13.4</td>\n",
              "      <td>9.8</td>\n",
              "      <td>11.8</td>\n",
              "      <td>24</td>\n",
              "      <td>271</td>\n",
              "    </tr>\n",
              "    <tr>\n",
              "      <th>1065</th>\n",
              "      <td>2014</td>\n",
              "      <td>VOLVO</td>\n",
              "      <td>XC70 AWD</td>\n",
              "      <td>SUV - SMALL</td>\n",
              "      <td>3.2</td>\n",
              "      <td>6</td>\n",
              "      <td>AS6</td>\n",
              "      <td>X</td>\n",
              "      <td>12.9</td>\n",
              "      <td>9.3</td>\n",
              "      <td>11.3</td>\n",
              "      <td>25</td>\n",
              "      <td>260</td>\n",
              "    </tr>\n",
              "    <tr>\n",
              "      <th>1066</th>\n",
              "      <td>2014</td>\n",
              "      <td>VOLVO</td>\n",
              "      <td>XC90 AWD</td>\n",
              "      <td>SUV - STANDARD</td>\n",
              "      <td>3.2</td>\n",
              "      <td>6</td>\n",
              "      <td>AS6</td>\n",
              "      <td>X</td>\n",
              "      <td>14.9</td>\n",
              "      <td>10.2</td>\n",
              "      <td>12.8</td>\n",
              "      <td>22</td>\n",
              "      <td>294</td>\n",
              "    </tr>\n",
              "  </tbody>\n",
              "</table>\n",
              "<p>1067 rows × 13 columns</p>\n",
              "</div>"
            ],
            "text/plain": [
              "      MODELYEAR   MAKE  ... FUELCONSUMPTION_COMB_MPG CO2EMISSIONS\n",
              "0          2014  ACURA  ...                       33          196\n",
              "1          2014  ACURA  ...                       29          221\n",
              "2          2014  ACURA  ...                       48          136\n",
              "3          2014  ACURA  ...                       25          255\n",
              "4          2014  ACURA  ...                       27          244\n",
              "...         ...    ...  ...                      ...          ...\n",
              "1062       2014  VOLVO  ...                       24          271\n",
              "1063       2014  VOLVO  ...                       25          264\n",
              "1064       2014  VOLVO  ...                       24          271\n",
              "1065       2014  VOLVO  ...                       25          260\n",
              "1066       2014  VOLVO  ...                       22          294\n",
              "\n",
              "[1067 rows x 13 columns]"
            ]
          },
          "metadata": {
            "tags": []
          },
          "execution_count": 5
        }
      ]
    },
    {
      "cell_type": "code",
      "metadata": {
        "id": "TjqXgTRnc2Vu"
      },
      "source": [
        "x = df.iloc[:,4].values.reshape(-1,1)\n",
        "y = df.iloc[:,-1].values.reshape(-1,1)"
      ],
      "execution_count": 8,
      "outputs": []
    },
    {
      "cell_type": "code",
      "metadata": {
        "colab": {
          "base_uri": "https://localhost:8080/"
        },
        "id": "_3OGdDd8dSf_",
        "outputId": "a4f1cb01-ab01-4b27-b0a5-483de940d1ac"
      },
      "source": [
        "x"
      ],
      "execution_count": 9,
      "outputs": [
        {
          "output_type": "execute_result",
          "data": {
            "text/plain": [
              "array([[2. ],\n",
              "       [2.4],\n",
              "       [1.5],\n",
              "       ...,\n",
              "       [3. ],\n",
              "       [3.2],\n",
              "       [3.2]])"
            ]
          },
          "metadata": {
            "tags": []
          },
          "execution_count": 9
        }
      ]
    },
    {
      "cell_type": "code",
      "metadata": {
        "colab": {
          "base_uri": "https://localhost:8080/"
        },
        "id": "3b_0_Av7dT78",
        "outputId": "c7eccb31-2c0c-43a4-f1e9-28f620b57f63"
      },
      "source": [
        "y"
      ],
      "execution_count": 10,
      "outputs": [
        {
          "output_type": "execute_result",
          "data": {
            "text/plain": [
              "array([[196],\n",
              "       [221],\n",
              "       [136],\n",
              "       ...,\n",
              "       [271],\n",
              "       [260],\n",
              "       [294]])"
            ]
          },
          "metadata": {
            "tags": []
          },
          "execution_count": 10
        }
      ]
    },
    {
      "cell_type": "code",
      "metadata": {
        "id": "wEmQ44sPdtQP"
      },
      "source": [
        "from sklearn.model_selection import train_test_split"
      ],
      "execution_count": 11,
      "outputs": []
    },
    {
      "cell_type": "code",
      "metadata": {
        "id": "FPJqGvXsd7Bg"
      },
      "source": [
        "train_x,test_x,train_y,test_y = train_test_split(x,y, test_size=0.2)"
      ],
      "execution_count": 13,
      "outputs": []
    },
    {
      "cell_type": "code",
      "metadata": {
        "id": "H16x9rULea2J"
      },
      "source": [
        "from sklearn.linear_model import LinearRegression"
      ],
      "execution_count": 16,
      "outputs": []
    },
    {
      "cell_type": "code",
      "metadata": {
        "id": "wGcec0areoeS"
      },
      "source": [
        "Lin = LinearRegression()"
      ],
      "execution_count": 17,
      "outputs": []
    },
    {
      "cell_type": "code",
      "metadata": {
        "colab": {
          "base_uri": "https://localhost:8080/"
        },
        "id": "2YCvqfj4e1oI",
        "outputId": "65073bab-e810-41e1-d7f2-4bb0b0faa25c"
      },
      "source": [
        "Lin.fit(train_x,train_y)"
      ],
      "execution_count": 18,
      "outputs": [
        {
          "output_type": "execute_result",
          "data": {
            "text/plain": [
              "LinearRegression(copy_X=True, fit_intercept=True, n_jobs=None, normalize=False)"
            ]
          },
          "metadata": {
            "tags": []
          },
          "execution_count": 18
        }
      ]
    },
    {
      "cell_type": "code",
      "metadata": {
        "id": "rGoRGoSLfAc7"
      },
      "source": [
        "pred_y = Lin.predict(test_x)"
      ],
      "execution_count": 19,
      "outputs": []
    },
    {
      "cell_type": "code",
      "metadata": {
        "colab": {
          "base_uri": "https://localhost:8080/"
        },
        "id": "qRA7Vwj5fOl6",
        "outputId": "beab0507-e78f-497b-d18d-24b14005e5a9"
      },
      "source": [
        "np.concatenate((test_y,pred_y), axis =1)"
      ],
      "execution_count": 21,
      "outputs": [
        {
          "output_type": "execute_result",
          "data": {
            "text/plain": [
              "array([[232.        , 261.76488621],\n",
              "       [212.        , 230.45427252],\n",
              "       [177.        , 195.22983211],\n",
              "       [277.        , 242.19575265],\n",
              "       [230.        , 261.76488621],\n",
              "       [216.        , 203.05748554],\n",
              "       [340.        , 367.43820743],\n",
              "       [414.        , 312.64463347],\n",
              "       [380.        , 332.21376703],\n",
              "       [181.        , 203.05748554],\n",
              "       [350.        , 308.73080675],\n",
              "       [297.        , 281.33401977],\n",
              "       [207.        , 203.05748554],\n",
              "       [202.        , 222.62661909],\n",
              "       [260.        , 269.59253964],\n",
              "       [297.        , 304.81698004],\n",
              "       [344.        , 332.21376703],\n",
              "       [292.        , 296.98932662],\n",
              "       [259.        , 265.67871292],\n",
              "       [283.        , 269.59253964],\n",
              "       [246.        , 203.05748554],\n",
              "       [386.        , 304.81698004],\n",
              "       [345.        , 343.95524716],\n",
              "       [244.        , 261.76488621],\n",
              "       [209.        , 203.05748554],\n",
              "       [318.        , 320.47228689],\n",
              "       [205.        , 203.05748554],\n",
              "       [246.        , 203.05748554],\n",
              "       [297.        , 281.33401977],\n",
              "       [131.        , 222.62661909],\n",
              "       [207.        , 222.62661909],\n",
              "       [230.        , 203.05748554],\n",
              "       [166.        , 203.05748554],\n",
              "       [221.        , 187.40217869],\n",
              "       [232.        , 218.71279238],\n",
              "       [193.        , 179.57452526],\n",
              "       [196.        , 203.05748554],\n",
              "       [283.        , 242.19575265],\n",
              "       [258.        , 265.67871292],\n",
              "       [320.        , 296.98932662],\n",
              "       [175.        , 187.40217869],\n",
              "       [272.        , 265.67871292],\n",
              "       [310.        , 340.04142045],\n",
              "       [232.        , 242.19575265],\n",
              "       [179.        , 187.40217869],\n",
              "       [228.        , 203.05748554],\n",
              "       [191.        , 195.22983211],\n",
              "       [344.        , 332.21376703],\n",
              "       [251.        , 261.76488621],\n",
              "       [380.        , 359.61055401],\n",
              "       [225.        , 203.05748554],\n",
              "       [264.        , 269.59253964],\n",
              "       [168.        , 195.22983211],\n",
              "       [269.        , 261.76488621],\n",
              "       [237.        , 265.67871292],\n",
              "       [340.        , 367.43820743],\n",
              "       [237.        , 242.19575265],\n",
              "       [258.        , 265.67871292],\n",
              "       [361.        , 367.43820743],\n",
              "       [108.        , 183.48835198],\n",
              "       [258.        , 242.19575265],\n",
              "       [207.        , 187.40217869],\n",
              "       [329.        , 367.43820743],\n",
              "       [207.        , 222.62661909],\n",
              "       [290.        , 265.67871292],\n",
              "       [294.        , 261.76488621],\n",
              "       [246.        , 257.8510595 ],\n",
              "       [260.        , 242.19575265],\n",
              "       [265.        , 269.59253964],\n",
              "       [344.        , 332.21376703],\n",
              "       [221.        , 203.05748554],\n",
              "       [271.        , 261.76488621],\n",
              "       [189.        , 218.71279238],\n",
              "       [197.        , 203.05748554],\n",
              "       [230.        , 265.67871292],\n",
              "       [246.        , 273.50636635],\n",
              "       [262.        , 242.19575265],\n",
              "       [264.        , 265.67871292],\n",
              "       [260.        , 265.67871292],\n",
              "       [228.        , 230.45427252],\n",
              "       [163.        , 195.22983211],\n",
              "       [324.        , 367.43820743],\n",
              "       [235.        , 203.05748554],\n",
              "       [324.        , 347.86907387],\n",
              "       [292.        , 296.98932662],\n",
              "       [269.        , 265.67871292],\n",
              "       [218.        , 203.05748554],\n",
              "       [244.        , 261.76488621],\n",
              "       [207.        , 187.40217869],\n",
              "       [182.        , 218.71279238],\n",
              "       [179.        , 187.40217869],\n",
              "       [246.        , 218.71279238],\n",
              "       [189.        , 195.22983211],\n",
              "       [230.        , 203.05748554],\n",
              "       [179.        , 179.57452526],\n",
              "       [175.        , 187.40217869],\n",
              "       [292.        , 242.19575265],\n",
              "       [294.        , 332.21376703],\n",
              "       [207.        , 203.05748554],\n",
              "       [398.        , 343.95524716],\n",
              "       [235.        , 261.76488621],\n",
              "       [191.        , 187.40217869],\n",
              "       [346.        , 336.12759374],\n",
              "       [336.        , 320.47228689],\n",
              "       [368.        , 304.81698004],\n",
              "       [147.        , 171.74687184],\n",
              "       [267.        , 203.05748554],\n",
              "       [251.        , 265.67871292],\n",
              "       [209.        , 218.71279238],\n",
              "       [214.        , 203.05748554],\n",
              "       [258.        , 242.19575265],\n",
              "       [393.        , 387.00734099],\n",
              "       [212.        , 203.05748554],\n",
              "       [239.        , 261.76488621],\n",
              "       [306.        , 320.47228689],\n",
              "       [202.        , 203.05748554],\n",
              "       [209.        , 203.05748554],\n",
              "       [179.        , 203.05748554],\n",
              "       [260.        , 242.19575265],\n",
              "       [294.        , 347.86907387],\n",
              "       [177.        , 187.40217869],\n",
              "       [200.        , 195.22983211],\n",
              "       [306.        , 289.1616732 ],\n",
              "       [292.        , 296.98932662],\n",
              "       [262.        , 308.73080675],\n",
              "       [242.        , 250.02340608],\n",
              "       [347.        , 293.07549991],\n",
              "       [283.        , 222.62661909],\n",
              "       [179.        , 187.40217869],\n",
              "       [380.        , 332.21376703],\n",
              "       [196.        , 187.40217869],\n",
              "       [138.        , 203.05748554],\n",
              "       [264.        , 265.67871292],\n",
              "       [192.        , 203.05748554],\n",
              "       [288.        , 222.62661909],\n",
              "       [310.        , 340.04142045],\n",
              "       [253.        , 257.8510595 ],\n",
              "       [172.        , 183.48835198],\n",
              "       [246.        , 218.71279238],\n",
              "       [368.        , 383.09351428],\n",
              "       [251.        , 242.19575265],\n",
              "       [182.        , 179.57452526],\n",
              "       [198.        , 203.05748554],\n",
              "       [184.        , 179.57452526],\n",
              "       [246.        , 203.05748554],\n",
              "       [354.        , 320.47228689],\n",
              "       [200.        , 218.71279238],\n",
              "       [264.        , 265.67871292],\n",
              "       [184.        , 195.22983211],\n",
              "       [281.        , 281.33401977],\n",
              "       [272.        , 265.67871292],\n",
              "       [344.        , 332.21376703],\n",
              "       [276.        , 265.67871292],\n",
              "       [285.        , 242.19575265],\n",
              "       [159.        , 171.74687184],\n",
              "       [179.        , 179.57452526],\n",
              "       [230.        , 218.71279238],\n",
              "       [294.        , 332.21376703],\n",
              "       [225.        , 203.05748554],\n",
              "       [264.        , 320.47228689],\n",
              "       [235.        , 203.05748554],\n",
              "       [253.        , 261.76488621],\n",
              "       [221.        , 222.62661909],\n",
              "       [283.        , 265.67871292],\n",
              "       [340.        , 347.86907387],\n",
              "       [359.        , 343.95524716],\n",
              "       [362.        , 332.21376703],\n",
              "       [237.        , 203.05748554],\n",
              "       [380.        , 332.21376703],\n",
              "       [230.        , 218.71279238],\n",
              "       [414.        , 312.64463347],\n",
              "       [281.        , 269.59253964],\n",
              "       [271.        , 265.67871292],\n",
              "       [267.        , 242.19575265],\n",
              "       [216.        , 195.22983211],\n",
              "       [194.        , 203.05748554],\n",
              "       [262.        , 253.93723279],\n",
              "       [250.        , 265.67871292],\n",
              "       [216.        , 187.40217869],\n",
              "       [184.        , 187.40217869],\n",
              "       [338.        , 296.98932662],\n",
              "       [214.        , 203.05748554],\n",
              "       [244.        , 265.67871292],\n",
              "       [320.        , 375.26586086],\n",
              "       [308.        , 269.59253964],\n",
              "       [271.        , 261.76488621],\n",
              "       [254.        , 261.76488621],\n",
              "       [258.        , 265.67871292],\n",
              "       [191.        , 179.57452526],\n",
              "       [230.        , 218.71279238],\n",
              "       [260.        , 265.67871292],\n",
              "       [232.        , 222.62661909],\n",
              "       [191.        , 195.22983211],\n",
              "       [260.        , 265.67871292],\n",
              "       [393.        , 387.00734099],\n",
              "       [288.        , 281.33401977],\n",
              "       [168.        , 222.62661909],\n",
              "       [246.        , 261.76488621],\n",
              "       [223.        , 222.62661909],\n",
              "       [228.        , 203.05748554],\n",
              "       [209.        , 203.05748554],\n",
              "       [198.        , 203.05748554],\n",
              "       [228.        , 230.45427252],\n",
              "       [322.        , 281.33401977],\n",
              "       [255.        , 261.76488621],\n",
              "       [166.        , 203.05748554],\n",
              "       [278.        , 265.67871292],\n",
              "       [230.        , 242.19575265],\n",
              "       [198.        , 203.05748554],\n",
              "       [177.        , 187.40217869],\n",
              "       [267.        , 250.02340608],\n",
              "       [191.        , 222.62661909],\n",
              "       [170.        , 203.05748554],\n",
              "       [216.        , 195.22983211]])"
            ]
          },
          "metadata": {
            "tags": []
          },
          "execution_count": 21
        }
      ]
    },
    {
      "cell_type": "code",
      "metadata": {
        "id": "bw00Z1vgfZ8N"
      },
      "source": [
        "from sklearn import metrics"
      ],
      "execution_count": 22,
      "outputs": []
    },
    {
      "cell_type": "code",
      "metadata": {
        "colab": {
          "base_uri": "https://localhost:8080/"
        },
        "id": "H2I78DEgfnig",
        "outputId": "ccf0a404-835b-4fac-e9c9-ed81f6200c8a"
      },
      "source": [
        "metrics.mean_absolute_error(test_y,pred_y)"
      ],
      "execution_count": 23,
      "outputs": [
        {
          "output_type": "execute_result",
          "data": {
            "text/plain": [
              "20.745306976480332"
            ]
          },
          "metadata": {
            "tags": []
          },
          "execution_count": 23
        }
      ]
    },
    {
      "cell_type": "code",
      "metadata": {
        "colab": {
          "base_uri": "https://localhost:8080/"
        },
        "id": "iWDfUn_1fwLY",
        "outputId": "d531d433-0835-4d43-aabc-bd88b7be3ef9"
      },
      "source": [
        "Lin.predict([[700]])"
      ],
      "execution_count": 25,
      "outputs": [
        {
          "output_type": "execute_result",
          "data": {
            "text/plain": [
              "array([[27521.56793408]])"
            ]
          },
          "metadata": {
            "tags": []
          },
          "execution_count": 25
        }
      ]
    },
    {
      "cell_type": "code",
      "metadata": {
        "colab": {
          "base_uri": "https://localhost:8080/"
        },
        "id": "6nzpIVpQgRqD",
        "outputId": "3d053ab5-adf2-4f5d-ffa8-a8a17cf30c81"
      },
      "source": [
        "Lin.intercept_# theorotical try"
      ],
      "execution_count": 26,
      "outputs": [
        {
          "output_type": "execute_result",
          "data": {
            "text/plain": [
              "array([124.7809513])"
            ]
          },
          "metadata": {
            "tags": []
          },
          "execution_count": 26
        }
      ]
    },
    {
      "cell_type": "code",
      "metadata": {
        "colab": {
          "base_uri": "https://localhost:8080/"
        },
        "id": "nu19OSZbgWJx",
        "outputId": "5aed3c74-5007-4cf4-aa31-03a4092c052e"
      },
      "source": [
        "Lin.coef_"
      ],
      "execution_count": 27,
      "outputs": [
        {
          "output_type": "execute_result",
          "data": {
            "text/plain": [
              "array([[39.13826712]])"
            ]
          },
          "metadata": {
            "tags": []
          },
          "execution_count": 27
        }
      ]
    },
    {
      "cell_type": "code",
      "metadata": {
        "colab": {
          "base_uri": "https://localhost:8080/"
        },
        "id": "jP5eOdxRf82g",
        "outputId": "f6ab34be-b44d-4df5-ec57-176519efea03"
      },
      "source": [
        "124.7809513+ (39.13826712)*700"
      ],
      "execution_count": 28,
      "outputs": [
        {
          "output_type": "execute_result",
          "data": {
            "text/plain": [
              "27521.5679353"
            ]
          },
          "metadata": {
            "tags": []
          },
          "execution_count": 28
        }
      ]
    }
  ]
}