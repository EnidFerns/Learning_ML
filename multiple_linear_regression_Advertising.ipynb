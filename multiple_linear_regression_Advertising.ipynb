{
  "nbformat": 4,
  "nbformat_minor": 0,
  "metadata": {
    "colab": {
      "name": "multiple linear regression Advertising.ipynb",
      "provenance": [],
      "collapsed_sections": [],
      "mount_file_id": "1o8YbVHbZDXgLrIAZ8Ib3axw7CIUp8ruI",
      "authorship_tag": "ABX9TyMGS6KlbFooS3QTavtKIooR",
      "include_colab_link": true
    },
    "kernelspec": {
      "name": "python3",
      "display_name": "Python 3"
    },
    "language_info": {
      "name": "python"
    }
  },
  "cells": [
    {
      "cell_type": "markdown",
      "metadata": {
        "id": "view-in-github",
        "colab_type": "text"
      },
      "source": [
        "<a href=\"https://colab.research.google.com/github/EnidFerns/ml/blob/main/multiple_linear_regression_Advertising.ipynb\" target=\"_parent\"><img src=\"https://colab.research.google.com/assets/colab-badge.svg\" alt=\"Open In Colab\"/></a>"
      ]
    },
    {
      "cell_type": "markdown",
      "metadata": {
        "id": "H45xUF3JilCq"
      },
      "source": [
        "given dataframe: all ads shown(amount spent on each section:tv radio newspaper is given)\n",
        "\n",
        "i/p investment on ads( tv then radio then newspaper)\n",
        "\n",
        "o/p sales expected\n",
        "\n",
        "1)make an estimator then create aodel to see how many sales are made\n",
        "\n",
        "2)which factor affects the sale the most"
      ]
    },
    {
      "cell_type": "code",
      "metadata": {
        "id": "gi4OrCIAhmAf"
      },
      "source": [
        "import pandas as pd\n",
        "import numpy as np"
      ],
      "execution_count": 5,
      "outputs": []
    },
    {
      "cell_type": "code",
      "metadata": {
        "id": "Bd6a-M1ph0tr"
      },
      "source": [
        "df = pd.read_csv('/content/drive/MyDrive/Verzeo ML Feb Batch/Advertising.csv')"
      ],
      "execution_count": 3,
      "outputs": []
    },
    {
      "cell_type": "code",
      "metadata": {
        "colab": {
          "base_uri": "https://localhost:8080/",
          "height": 419
        },
        "id": "C812SNV_iGM-",
        "outputId": "72269acd-d7ea-4f94-dd89-0bc7733fa1b2"
      },
      "source": [
        "df"
      ],
      "execution_count": 4,
      "outputs": [
        {
          "output_type": "execute_result",
          "data": {
            "text/html": [
              "<div>\n",
              "<style scoped>\n",
              "    .dataframe tbody tr th:only-of-type {\n",
              "        vertical-align: middle;\n",
              "    }\n",
              "\n",
              "    .dataframe tbody tr th {\n",
              "        vertical-align: top;\n",
              "    }\n",
              "\n",
              "    .dataframe thead th {\n",
              "        text-align: right;\n",
              "    }\n",
              "</style>\n",
              "<table border=\"1\" class=\"dataframe\">\n",
              "  <thead>\n",
              "    <tr style=\"text-align: right;\">\n",
              "      <th></th>\n",
              "      <th>TV</th>\n",
              "      <th>Radio</th>\n",
              "      <th>Newspaper</th>\n",
              "      <th>Sales</th>\n",
              "    </tr>\n",
              "  </thead>\n",
              "  <tbody>\n",
              "    <tr>\n",
              "      <th>0</th>\n",
              "      <td>230.1</td>\n",
              "      <td>37.8</td>\n",
              "      <td>69.2</td>\n",
              "      <td>22.1</td>\n",
              "    </tr>\n",
              "    <tr>\n",
              "      <th>1</th>\n",
              "      <td>44.5</td>\n",
              "      <td>39.3</td>\n",
              "      <td>45.1</td>\n",
              "      <td>10.4</td>\n",
              "    </tr>\n",
              "    <tr>\n",
              "      <th>2</th>\n",
              "      <td>17.2</td>\n",
              "      <td>45.9</td>\n",
              "      <td>69.3</td>\n",
              "      <td>12.0</td>\n",
              "    </tr>\n",
              "    <tr>\n",
              "      <th>3</th>\n",
              "      <td>151.5</td>\n",
              "      <td>41.3</td>\n",
              "      <td>58.5</td>\n",
              "      <td>16.5</td>\n",
              "    </tr>\n",
              "    <tr>\n",
              "      <th>4</th>\n",
              "      <td>180.8</td>\n",
              "      <td>10.8</td>\n",
              "      <td>58.4</td>\n",
              "      <td>17.9</td>\n",
              "    </tr>\n",
              "    <tr>\n",
              "      <th>...</th>\n",
              "      <td>...</td>\n",
              "      <td>...</td>\n",
              "      <td>...</td>\n",
              "      <td>...</td>\n",
              "    </tr>\n",
              "    <tr>\n",
              "      <th>195</th>\n",
              "      <td>38.2</td>\n",
              "      <td>3.7</td>\n",
              "      <td>13.8</td>\n",
              "      <td>7.6</td>\n",
              "    </tr>\n",
              "    <tr>\n",
              "      <th>196</th>\n",
              "      <td>94.2</td>\n",
              "      <td>4.9</td>\n",
              "      <td>8.1</td>\n",
              "      <td>14.0</td>\n",
              "    </tr>\n",
              "    <tr>\n",
              "      <th>197</th>\n",
              "      <td>177.0</td>\n",
              "      <td>9.3</td>\n",
              "      <td>6.4</td>\n",
              "      <td>14.8</td>\n",
              "    </tr>\n",
              "    <tr>\n",
              "      <th>198</th>\n",
              "      <td>283.6</td>\n",
              "      <td>42.0</td>\n",
              "      <td>66.2</td>\n",
              "      <td>25.5</td>\n",
              "    </tr>\n",
              "    <tr>\n",
              "      <th>199</th>\n",
              "      <td>232.1</td>\n",
              "      <td>8.6</td>\n",
              "      <td>8.7</td>\n",
              "      <td>18.4</td>\n",
              "    </tr>\n",
              "  </tbody>\n",
              "</table>\n",
              "<p>200 rows × 4 columns</p>\n",
              "</div>"
            ],
            "text/plain": [
              "        TV  Radio  Newspaper  Sales\n",
              "0    230.1   37.8       69.2   22.1\n",
              "1     44.5   39.3       45.1   10.4\n",
              "2     17.2   45.9       69.3   12.0\n",
              "3    151.5   41.3       58.5   16.5\n",
              "4    180.8   10.8       58.4   17.9\n",
              "..     ...    ...        ...    ...\n",
              "195   38.2    3.7       13.8    7.6\n",
              "196   94.2    4.9        8.1   14.0\n",
              "197  177.0    9.3        6.4   14.8\n",
              "198  283.6   42.0       66.2   25.5\n",
              "199  232.1    8.6        8.7   18.4\n",
              "\n",
              "[200 rows x 4 columns]"
            ]
          },
          "metadata": {
            "tags": []
          },
          "execution_count": 4
        }
      ]
    },
    {
      "cell_type": "code",
      "metadata": {
        "id": "qrmynLaIiRPA"
      },
      "source": [
        "x = df['TV'].values.reshape(-1,1)\n",
        "y = df['Sales'].values.reshape(-1,1)"
      ],
      "execution_count": 7,
      "outputs": []
    },
    {
      "cell_type": "code",
      "metadata": {
        "id": "UA4N4rYTkl6B"
      },
      "source": [
        "from sklearn.model_selection import train_test_split"
      ],
      "execution_count": 8,
      "outputs": []
    },
    {
      "cell_type": "code",
      "metadata": {
        "id": "Cwz_21Bsk7pC"
      },
      "source": [
        "train_x,test_x,train_y,test_y = train_test_split(x,y,test_size =0.2,random_state =0)"
      ],
      "execution_count": 10,
      "outputs": []
    },
    {
      "cell_type": "code",
      "metadata": {
        "id": "8ps5gwZhlHgh"
      },
      "source": [
        "from sklearn.linear_model import LinearRegression"
      ],
      "execution_count": 11,
      "outputs": []
    },
    {
      "cell_type": "code",
      "metadata": {
        "id": "mffWo4mNlwav"
      },
      "source": [
        "Lin = LinearRegression()"
      ],
      "execution_count": 12,
      "outputs": []
    },
    {
      "cell_type": "code",
      "metadata": {
        "colab": {
          "base_uri": "https://localhost:8080/"
        },
        "id": "-Qiv4zvmlzH7",
        "outputId": "1c91e65a-08a4-4be4-8a9e-9ce58769acd1"
      },
      "source": [
        "Lin.fit(train_x,train_y)"
      ],
      "execution_count": 13,
      "outputs": [
        {
          "output_type": "execute_result",
          "data": {
            "text/plain": [
              "LinearRegression(copy_X=True, fit_intercept=True, n_jobs=None, normalize=False)"
            ]
          },
          "metadata": {
            "tags": []
          },
          "execution_count": 13
        }
      ]
    },
    {
      "cell_type": "code",
      "metadata": {
        "id": "WHPXPsqOl4WE"
      },
      "source": [
        "pred_y = Lin.predict(test_x)"
      ],
      "execution_count": 14,
      "outputs": []
    },
    {
      "cell_type": "code",
      "metadata": {
        "colab": {
          "base_uri": "https://localhost:8080/"
        },
        "id": "otcPzF4il_sO",
        "outputId": "4c11cac4-c159-463b-d867-99e37821099e"
      },
      "source": [
        "np.concatenate((test_y,pred_y), axis = 1)"
      ],
      "execution_count": 15,
      "outputs": [
        {
          "output_type": "execute_result",
          "data": {
            "text/plain": [
              "array([[11.3       , 10.92912965],\n",
              "       [ 8.4       ,  9.88399105],\n",
              "       [12.        , 12.08313684],\n",
              "       [25.4       , 22.93189318],\n",
              "       [16.7       , 16.42699412],\n",
              "       [ 8.7       , 10.22148373],\n",
              "       [ 7.2       ,  7.63585439],\n",
              "       [18.2       , 20.23195181],\n",
              "       [ 9.2       ,  8.45781235],\n",
              "       [16.6       , 17.91849399],\n",
              "       [24.2       , 21.38595901],\n",
              "       [10.6       , 11.90894708],\n",
              "       [15.5       , 15.68668762],\n",
              "       [20.6       , 17.38503783],\n",
              "       [11.8       , 11.32105662],\n",
              "       [13.2       , 13.70527904],\n",
              "       [17.4       , 21.62002651],\n",
              "       [ 1.6       ,  7.20037998],\n",
              "       [14.7       , 11.22851831],\n",
              "       [17.        , 18.77855596],\n",
              "       [26.2       , 22.81758114],\n",
              "       [10.3       , 14.7994085 ],\n",
              "       [16.1       , 16.6937222 ],\n",
              "       [12.9       , 14.33127351],\n",
              "       [ 8.1       , 10.07451111],\n",
              "       [15.2       , 13.86313851],\n",
              "       [17.6       , 16.17659633],\n",
              "       [22.6       , 18.32130782],\n",
              "       [16.6       , 19.35555956],\n",
              "       [ 8.5       ,  8.52857694],\n",
              "       [12.5       , 10.85292163],\n",
              "       [23.7       , 17.98925858],\n",
              "       [16.1       , 22.44198446],\n",
              "       [21.8       , 20.3190467 ],\n",
              "       [ 5.6       ,  7.88080875],\n",
              "       [ 6.7       ,  8.18019741],\n",
              "       [ 9.7       , 10.40656035],\n",
              "       [17.9       , 17.00399772],\n",
              "       [13.6       , 10.88558221],\n",
              "       [ 7.2       ,  8.52313351]])"
            ]
          },
          "metadata": {
            "tags": []
          },
          "execution_count": 15
        }
      ]
    },
    {
      "cell_type": "code",
      "metadata": {
        "colab": {
          "base_uri": "https://localhost:8080/"
        },
        "id": "E5Jdl-BnmJn9",
        "outputId": "127758e8-bced-4443-b084-dc96d694894c"
      },
      "source": [
        "test_y-pred_y"
      ],
      "execution_count": 23,
      "outputs": [
        {
          "output_type": "execute_result",
          "data": {
            "text/plain": [
              "array([[ 0.37087035],\n",
              "       [-1.48399105],\n",
              "       [-0.08313684],\n",
              "       [ 2.46810682],\n",
              "       [ 0.27300588],\n",
              "       [-1.52148373],\n",
              "       [-0.43585439],\n",
              "       [-2.03195181],\n",
              "       [ 0.74218765],\n",
              "       [-1.31849399],\n",
              "       [ 2.81404099],\n",
              "       [-1.30894708],\n",
              "       [-0.18668762],\n",
              "       [ 3.21496217],\n",
              "       [ 0.47894338],\n",
              "       [-0.50527904],\n",
              "       [-4.22002651],\n",
              "       [-5.60037998],\n",
              "       [ 3.47148169],\n",
              "       [-1.77855596],\n",
              "       [ 3.38241886],\n",
              "       [-4.4994085 ],\n",
              "       [-0.5937222 ],\n",
              "       [-1.43127351],\n",
              "       [-1.97451111],\n",
              "       [ 1.33686149],\n",
              "       [ 1.42340367],\n",
              "       [ 4.27869218],\n",
              "       [-2.75555956],\n",
              "       [-0.02857694],\n",
              "       [ 1.64707837],\n",
              "       [ 5.71074142],\n",
              "       [-6.34198446],\n",
              "       [ 1.4809533 ],\n",
              "       [-2.28080875],\n",
              "       [-1.48019741],\n",
              "       [-0.70656035],\n",
              "       [ 0.89600228],\n",
              "       [ 2.71441779],\n",
              "       [-1.32313351]])"
            ]
          },
          "metadata": {
            "tags": []
          },
          "execution_count": 23
        }
      ]
    },
    {
      "cell_type": "code",
      "metadata": {
        "colab": {
          "base_uri": "https://localhost:8080/"
        },
        "id": "2gMdKlHOmWYo",
        "outputId": "ec0ef60e-eb1f-400c-9aa9-dfe0cd9712c9"
      },
      "source": [
        "np.abs(test_y-pred_y).mean()"
      ],
      "execution_count": 19,
      "outputs": [
        {
          "output_type": "execute_result",
          "data": {
            "text/plain": [
              "2.01486731475948"
            ]
          },
          "metadata": {
            "tags": []
          },
          "execution_count": 19
        }
      ]
    },
    {
      "cell_type": "code",
      "metadata": {
        "colab": {
          "base_uri": "https://localhost:8080/"
        },
        "id": "okEjXCCKmMWI",
        "outputId": "9593b8c6-3171-4778-c4cb-52ec91ed0204"
      },
      "source": [
        "Lin.predict([[20000]])"
      ],
      "execution_count": 22,
      "outputs": [
        {
          "output_type": "execute_result",
          "data": {
            "text/plain": [
              "array([[1095.84831049]])"
            ]
          },
          "metadata": {
            "tags": []
          },
          "execution_count": 22
        }
      ]
    },
    {
      "cell_type": "code",
      "metadata": {
        "id": "2-AopgTVmU5R"
      },
      "source": [
        "# If i invest 20k rs in tv ads ill get a sale of 1095+/-2.01 "
      ],
      "execution_count": 24,
      "outputs": []
    },
    {
      "cell_type": "code",
      "metadata": {
        "id": "YFZKgeFMnG35"
      },
      "source": [
        ""
      ],
      "execution_count": null,
      "outputs": []
    },
    {
      "cell_type": "markdown",
      "metadata": {
        "id": "4CcSdCKRnKFd"
      },
      "source": [
        "Corelation function: which vakue is dependant on another function in the column"
      ]
    },
    {
      "cell_type": "code",
      "metadata": {
        "colab": {
          "base_uri": "https://localhost:8080/",
          "height": 173
        },
        "id": "Q7bzxcQNnI0j",
        "outputId": "494b7a28-cba8-4f2f-aa4d-8a647d79555a"
      },
      "source": [
        "df.corr()#theoretical"
      ],
      "execution_count": 25,
      "outputs": [
        {
          "output_type": "execute_result",
          "data": {
            "text/html": [
              "<div>\n",
              "<style scoped>\n",
              "    .dataframe tbody tr th:only-of-type {\n",
              "        vertical-align: middle;\n",
              "    }\n",
              "\n",
              "    .dataframe tbody tr th {\n",
              "        vertical-align: top;\n",
              "    }\n",
              "\n",
              "    .dataframe thead th {\n",
              "        text-align: right;\n",
              "    }\n",
              "</style>\n",
              "<table border=\"1\" class=\"dataframe\">\n",
              "  <thead>\n",
              "    <tr style=\"text-align: right;\">\n",
              "      <th></th>\n",
              "      <th>TV</th>\n",
              "      <th>Radio</th>\n",
              "      <th>Newspaper</th>\n",
              "      <th>Sales</th>\n",
              "    </tr>\n",
              "  </thead>\n",
              "  <tbody>\n",
              "    <tr>\n",
              "      <th>TV</th>\n",
              "      <td>1.000000</td>\n",
              "      <td>0.054809</td>\n",
              "      <td>0.056648</td>\n",
              "      <td>0.901208</td>\n",
              "    </tr>\n",
              "    <tr>\n",
              "      <th>Radio</th>\n",
              "      <td>0.054809</td>\n",
              "      <td>1.000000</td>\n",
              "      <td>0.354104</td>\n",
              "      <td>0.349631</td>\n",
              "    </tr>\n",
              "    <tr>\n",
              "      <th>Newspaper</th>\n",
              "      <td>0.056648</td>\n",
              "      <td>0.354104</td>\n",
              "      <td>1.000000</td>\n",
              "      <td>0.157960</td>\n",
              "    </tr>\n",
              "    <tr>\n",
              "      <th>Sales</th>\n",
              "      <td>0.901208</td>\n",
              "      <td>0.349631</td>\n",
              "      <td>0.157960</td>\n",
              "      <td>1.000000</td>\n",
              "    </tr>\n",
              "  </tbody>\n",
              "</table>\n",
              "</div>"
            ],
            "text/plain": [
              "                 TV     Radio  Newspaper     Sales\n",
              "TV         1.000000  0.054809   0.056648  0.901208\n",
              "Radio      0.054809  1.000000   0.354104  0.349631\n",
              "Newspaper  0.056648  0.354104   1.000000  0.157960\n",
              "Sales      0.901208  0.349631   0.157960  1.000000"
            ]
          },
          "metadata": {
            "tags": []
          },
          "execution_count": 25
        }
      ]
    },
    {
      "cell_type": "markdown",
      "metadata": {
        "id": "XhC8A5zYnYGB"
      },
      "source": [
        "tv with tv is 100% related\n",
        "tv radio 0%\n",
        "\n",
        "\n",
        "tv and sales is 90%\n",
        "radio correalted to sales with 35%\n",
        "sales on newspaper is 16%"
      ]
    },
    {
      "cell_type": "code",
      "metadata": {
        "id": "oTN6LjpBnVFX"
      },
      "source": [
        "#practically proving that tv gives the most sales.. u add radio and newspaper as x values"
      ],
      "execution_count": 26,
      "outputs": []
    },
    {
      "cell_type": "code",
      "metadata": {
        "id": "pn7g5qc9n5Cb"
      },
      "source": [
        "x = df[['TV','Radio']].values"
      ],
      "execution_count": 28,
      "outputs": []
    },
    {
      "cell_type": "code",
      "metadata": {
        "id": "QeqlWywJoDFH"
      },
      "source": [
        "#repeat all steps with new x"
      ],
      "execution_count": 29,
      "outputs": []
    },
    {
      "cell_type": "code",
      "metadata": {
        "id": "cxfgK1haoNcS"
      },
      "source": [
        "train_x,test_x,train_y,test_y = train_test_split(x,y,test_size =0.2,random_state =0)"
      ],
      "execution_count": 30,
      "outputs": []
    },
    {
      "cell_type": "code",
      "metadata": {
        "colab": {
          "base_uri": "https://localhost:8080/"
        },
        "id": "GuIBHrijoUag",
        "outputId": "3d29ce0d-11e7-4343-c250-0b9f447575f3"
      },
      "source": [
        "Lin.fit(train_x,train_y)"
      ],
      "execution_count": 31,
      "outputs": [
        {
          "output_type": "execute_result",
          "data": {
            "text/plain": [
              "LinearRegression(copy_X=True, fit_intercept=True, n_jobs=None, normalize=False)"
            ]
          },
          "metadata": {
            "tags": []
          },
          "execution_count": 31
        }
      ]
    },
    {
      "cell_type": "code",
      "metadata": {
        "id": "nSXzNaYXohxS"
      },
      "source": [
        "pred_ynew = Lin.predict(test_x)"
      ],
      "execution_count": 32,
      "outputs": []
    },
    {
      "cell_type": "code",
      "metadata": {
        "colab": {
          "base_uri": "https://localhost:8080/"
        },
        "id": "SaTA3XhAoo4Z",
        "outputId": "d36180b9-9ec6-4ea4-e772-cf9ba023ced5"
      },
      "source": [
        "np.abs(test_y-pred_y).mean() #only with tv"
      ],
      "execution_count": 33,
      "outputs": [
        {
          "output_type": "execute_result",
          "data": {
            "text/plain": [
              "2.01486731475948"
            ]
          },
          "metadata": {
            "tags": []
          },
          "execution_count": 33
        }
      ]
    },
    {
      "cell_type": "code",
      "metadata": {
        "colab": {
          "base_uri": "https://localhost:8080/"
        },
        "id": "iW9kGkgjo9wA",
        "outputId": "1adfbe4a-4e05-4159-cc95-46adf2f15f6e"
      },
      "source": [
        "np.abs(test_y-pred_ynew).mean() #with radio and tv # error reduced to 30%"
      ],
      "execution_count": 34,
      "outputs": [
        {
          "output_type": "execute_result",
          "data": {
            "text/plain": [
              "1.4032867136894107"
            ]
          },
          "metadata": {
            "tags": []
          },
          "execution_count": 34
        }
      ]
    },
    {
      "cell_type": "code",
      "metadata": {
        "id": "Nt1E-0SOpACF"
      },
      "source": [
        "x = df[['TV','Radio','Newspaper']].values"
      ],
      "execution_count": 35,
      "outputs": []
    },
    {
      "cell_type": "code",
      "metadata": {
        "id": "_mQDvwafpSgV"
      },
      "source": [
        "train_x,test_x,train_y,test_y = train_test_split(x,y,test_size =0.2,random_state =0)"
      ],
      "execution_count": 36,
      "outputs": []
    },
    {
      "cell_type": "code",
      "metadata": {
        "colab": {
          "base_uri": "https://localhost:8080/"
        },
        "id": "owTeqSxopWBT",
        "outputId": "823c094d-5729-4474-82d9-77d9038b625b"
      },
      "source": [
        "Lin.fit(train_x,train_y)"
      ],
      "execution_count": 37,
      "outputs": [
        {
          "output_type": "execute_result",
          "data": {
            "text/plain": [
              "LinearRegression(copy_X=True, fit_intercept=True, n_jobs=None, normalize=False)"
            ]
          },
          "metadata": {
            "tags": []
          },
          "execution_count": 37
        }
      ]
    },
    {
      "cell_type": "code",
      "metadata": {
        "id": "94W_q30bpX5r"
      },
      "source": [
        "pred_ynew2 = Lin.predict(test_x)"
      ],
      "execution_count": 38,
      "outputs": []
    },
    {
      "cell_type": "code",
      "metadata": {
        "colab": {
          "base_uri": "https://localhost:8080/"
        },
        "id": "SZTIcNQHpboP",
        "outputId": "8422de0a-b190-4149-92be-39277a56b1b0"
      },
      "source": [
        "np.abs(test_y-pred_y).mean() #only with tv"
      ],
      "execution_count": 39,
      "outputs": [
        {
          "output_type": "execute_result",
          "data": {
            "text/plain": [
              "2.01486731475948"
            ]
          },
          "metadata": {
            "tags": []
          },
          "execution_count": 39
        }
      ]
    },
    {
      "cell_type": "code",
      "metadata": {
        "colab": {
          "base_uri": "https://localhost:8080/"
        },
        "id": "MRb575aepdxb",
        "outputId": "d896a553-afe5-4925-c8e4-8f72bc8ca6a6"
      },
      "source": [
        "np.abs(test_y-pred_ynew).mean() #with radio and tv # error reduced to 30%"
      ],
      "execution_count": 40,
      "outputs": [
        {
          "output_type": "execute_result",
          "data": {
            "text/plain": [
              "1.4032867136894107"
            ]
          },
          "metadata": {
            "tags": []
          },
          "execution_count": 40
        }
      ]
    },
    {
      "cell_type": "code",
      "metadata": {
        "colab": {
          "base_uri": "https://localhost:8080/"
        },
        "id": "79IcES4NpgNv",
        "outputId": "7d318524-5b36-4ecf-f851-81511168c1d4"
      },
      "source": [
        "np.abs(test_y-pred_ynew2).mean() #with radio and tv and newspaper # error increased 0.1(no effect)"
      ],
      "execution_count": 41,
      "outputs": [
        {
          "output_type": "execute_result",
          "data": {
            "text/plain": [
              "1.4170313030600667"
            ]
          },
          "metadata": {
            "tags": []
          },
          "execution_count": 41
        }
      ]
    },
    {
      "cell_type": "markdown",
      "metadata": {
        "id": "rT-Q3EYpprdw"
      },
      "source": [
        "## **CONCLUSION:**\n",
        "\n",
        "There's no effect of newspaper on sales"
      ]
    },
    {
      "cell_type": "code",
      "metadata": {
        "id": "EvPUu_WVpj7P"
      },
      "source": [
        ""
      ],
      "execution_count": null,
      "outputs": []
    }
  ]
}